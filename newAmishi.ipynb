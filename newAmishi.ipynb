{
 "cells": [
  {
   "cell_type": "code",
   "execution_count": 1,
   "id": "72e44df7",
   "metadata": {},
   "outputs": [],
   "source": [
    "import pandas as pd\n",
    "import numpy as np\n",
    "import matplotlib.pyplot as plt\n",
    "import seaborn as sns"
   ]
  },
  {
   "cell_type": "code",
   "execution_count": 7,
   "id": "97a3a3df",
   "metadata": {},
   "outputs": [
    {
     "data": {
      "text/html": [
       "<div>\n",
       "<style scoped>\n",
       "    .dataframe tbody tr th:only-of-type {\n",
       "        vertical-align: middle;\n",
       "    }\n",
       "\n",
       "    .dataframe tbody tr th {\n",
       "        vertical-align: top;\n",
       "    }\n",
       "\n",
       "    .dataframe thead th {\n",
       "        text-align: right;\n",
       "    }\n",
       "</style>\n",
       "<table border=\"1\" class=\"dataframe\">\n",
       "  <thead>\n",
       "    <tr style=\"text-align: right;\">\n",
       "      <th></th>\n",
       "      <th>Year</th>\n",
       "      <th>Real Value Added by Industry (millions)</th>\n",
       "      <th>Real Gross Output by Industry (millions)</th>\n",
       "      <th>Employment (thousands)</th>\n",
       "      <th>Compensation (millions)</th>\n",
       "    </tr>\n",
       "  </thead>\n",
       "  <tbody>\n",
       "    <tr>\n",
       "      <th>0</th>\n",
       "      <td>2012</td>\n",
       "      <td>79,861</td>\n",
       "      <td>151467</td>\n",
       "      <td>433</td>\n",
       "      <td>44438</td>\n",
       "    </tr>\n",
       "    <tr>\n",
       "      <th>1</th>\n",
       "      <td>2013</td>\n",
       "      <td>89170</td>\n",
       "      <td>159229</td>\n",
       "      <td>432</td>\n",
       "      <td>45211</td>\n",
       "    </tr>\n",
       "    <tr>\n",
       "      <th>2</th>\n",
       "      <td>2014</td>\n",
       "      <td>90495</td>\n",
       "      <td>164508</td>\n",
       "      <td>426</td>\n",
       "      <td>45941</td>\n",
       "    </tr>\n",
       "    <tr>\n",
       "      <th>3</th>\n",
       "      <td>2015</td>\n",
       "      <td>98536</td>\n",
       "      <td>173324</td>\n",
       "      <td>424</td>\n",
       "      <td>48237</td>\n",
       "    </tr>\n",
       "    <tr>\n",
       "      <th>4</th>\n",
       "      <td>2016</td>\n",
       "      <td>99506</td>\n",
       "      <td>173764</td>\n",
       "      <td>411</td>\n",
       "      <td>47959</td>\n",
       "    </tr>\n",
       "  </tbody>\n",
       "</table>\n",
       "</div>"
      ],
      "text/plain": [
       "   Year Real Value Added by Industry (millions)  \\\n",
       "0  2012                                  79,861   \n",
       "1  2013                                   89170   \n",
       "2  2014                                   90495   \n",
       "3  2015                                   98536   \n",
       "4  2016                                   99506   \n",
       "\n",
       "   Real Gross Output by Industry (millions)  Employment (thousands)  \\\n",
       "0                                    151467                     433   \n",
       "1                                    159229                     432   \n",
       "2                                    164508                     426   \n",
       "3                                    173324                     424   \n",
       "4                                    173764                     411   \n",
       "\n",
       "   Compensation (millions)  \n",
       "0                    44438  \n",
       "1                    45211  \n",
       "2                    45941  \n",
       "3                    48237  \n",
       "4                    47959  "
      ]
     },
     "execution_count": 7,
     "metadata": {},
     "output_type": "execute_result"
    }
   ],
   "source": [
    "private = pd.read_csv('optimizedBusiness.csv')\n",
    "private.rename(columns = {'Real Value Added by Industry': 'Real Value Added by Industry (millions)', \n",
    "                          'Real Gross Output by Industry': 'Real Gross Output by Industry (millions)',\n",
    "                          'Employment ': 'Employment (thousands)',\n",
    "                          'Compensation': 'Compensation (millions)'}, inplace= True)\n",
    "\n",
    "private.head()"
   ]
  },
  {
   "cell_type": "code",
   "execution_count": null,
   "id": "d1cd9823",
   "metadata": {},
   "outputs": [],
   "source": []
  }
 ],
 "metadata": {
  "kernelspec": {
   "display_name": "base",
   "language": "python",
   "name": "python3"
  },
  "language_info": {
   "codemirror_mode": {
    "name": "ipython",
    "version": 3
   },
   "file_extension": ".py",
   "mimetype": "text/x-python",
   "name": "python",
   "nbconvert_exporter": "python",
   "pygments_lexer": "ipython3",
   "version": "3.12.7"
  }
 },
 "nbformat": 4,
 "nbformat_minor": 5
}

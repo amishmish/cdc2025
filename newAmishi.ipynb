{
 "cells": [
  {
   "cell_type": "code",
   "execution_count": 1,
   "id": "72e44df7",
   "metadata": {},
   "outputs": [],
   "source": [
    "import pandas as pd\n",
    "import numpy as np\n",
    "import matplotlib.pyplot as plt\n",
    "import seaborn as sns"
   ]
  },
  {
   "cell_type": "code",
   "execution_count": 7,
   "id": "97a3a3df",
   "metadata": {},
   "outputs": [
    {
     "data": {
      "text/html": [
       "<div>\n",
       "<style scoped>\n",
       "    .dataframe tbody tr th:only-of-type {\n",
       "        vertical-align: middle;\n",
       "    }\n",
       "\n",
       "    .dataframe tbody tr th {\n",
       "        vertical-align: top;\n",
       "    }\n",
       "\n",
       "    .dataframe thead th {\n",
       "        text-align: right;\n",
       "    }\n",
       "</style>\n",
       "<table border=\"1\" class=\"dataframe\">\n",
       "  <thead>\n",
       "    <tr style=\"text-align: right;\">\n",
       "      <th></th>\n",
       "      <th>Year</th>\n",
       "      <th>Real Value Added by Industry (millions)</th>\n",
       "      <th>Real Gross Output by Industry (millions)</th>\n",
       "      <th>Employment (thousands)</th>\n",
       "      <th>Compensation (millions)</th>\n",
       "    </tr>\n",
       "  </thead>\n",
       "  <tbody>\n",
       "    <tr>\n",
       "      <th>0</th>\n",
       "      <td>2012</td>\n",
       "      <td>79,861</td>\n",
       "      <td>151467</td>\n",
       "      <td>433</td>\n",
       "      <td>44438</td>\n",
       "    </tr>\n",
       "    <tr>\n",
       "      <th>1</th>\n",
       "      <td>2013</td>\n",
       "      <td>89170</td>\n",
       "      <td>159229</td>\n",
       "      <td>432</td>\n",
       "      <td>45211</td>\n",
       "    </tr>\n",
       "    <tr>\n",
       "      <th>2</th>\n",
       "      <td>2014</td>\n",
       "      <td>90495</td>\n",
       "      <td>164508</td>\n",
       "      <td>426</td>\n",
       "      <td>45941</td>\n",
       "    </tr>\n",
       "    <tr>\n",
       "      <th>3</th>\n",
       "      <td>2015</td>\n",
       "      <td>98536</td>\n",
       "      <td>173324</td>\n",
       "      <td>424</td>\n",
       "      <td>48237</td>\n",
       "    </tr>\n",
       "    <tr>\n",
       "      <th>4</th>\n",
       "      <td>2016</td>\n",
       "      <td>99506</td>\n",
       "      <td>173764</td>\n",
       "      <td>411</td>\n",
       "      <td>47959</td>\n",
       "    </tr>\n",
       "  </tbody>\n",
       "</table>\n",
       "</div>"
      ],
      "text/plain": [
       "   Year Real Value Added by Industry (millions)  \\\n",
       "0  2012                                  79,861   \n",
       "1  2013                                   89170   \n",
       "2  2014                                   90495   \n",
       "3  2015                                   98536   \n",
       "4  2016                                   99506   \n",
       "\n",
       "   Real Gross Output by Industry (millions)  Employment (thousands)  \\\n",
       "0                                    151467                     433   \n",
       "1                                    159229                     432   \n",
       "2                                    164508                     426   \n",
       "3                                    173324                     424   \n",
       "4                                    173764                     411   \n",
       "\n",
       "   Compensation (millions)  \n",
       "0                    44438  \n",
       "1                    45211  \n",
       "2                    45941  \n",
       "3                    48237  \n",
       "4                    47959  "
      ]
     },
     "execution_count": 7,
     "metadata": {},
     "output_type": "execute_result"
    }
   ],
   "source": [
    "private = pd.read_csv('optimizedBusiness.csv')\n",
    "private.rename(columns = {'Real Value Added by Industry': 'Real Value Added by Industry (millions)', \n",
    "                          'Real Gross Output by Industry': 'Real Gross Output by Industry (millions)',\n",
    "                          'Employment ': 'Employment (thousands)',\n",
    "                          'Compensation': 'Compensation (millions)'}, inplace= True)\n",
    "\n",
    "private.head()"
   ]
  },
  {
   "cell_type": "code",
   "execution_count": 21,
   "id": "d1cd9823",
   "metadata": {},
   "outputs": [
    {
     "data": {
      "text/html": [
       "<div>\n",
       "<style scoped>\n",
       "    .dataframe tbody tr th:only-of-type {\n",
       "        vertical-align: middle;\n",
       "    }\n",
       "\n",
       "    .dataframe tbody tr th {\n",
       "        vertical-align: top;\n",
       "    }\n",
       "\n",
       "    .dataframe thead th {\n",
       "        text-align: right;\n",
       "    }\n",
       "</style>\n",
       "<table border=\"1\" class=\"dataframe\">\n",
       "  <thead>\n",
       "    <tr style=\"text-align: right;\">\n",
       "      <th></th>\n",
       "      <th>Year</th>\n",
       "      <th>Annual number of objects launched into outer space</th>\n",
       "    </tr>\n",
       "  </thead>\n",
       "  <tbody>\n",
       "    <tr>\n",
       "      <th>0</th>\n",
       "      <td>2012</td>\n",
       "      <td>33</td>\n",
       "    </tr>\n",
       "    <tr>\n",
       "      <th>1</th>\n",
       "      <td>2013</td>\n",
       "      <td>80</td>\n",
       "    </tr>\n",
       "    <tr>\n",
       "      <th>2</th>\n",
       "      <td>2014</td>\n",
       "      <td>95</td>\n",
       "    </tr>\n",
       "    <tr>\n",
       "      <th>3</th>\n",
       "      <td>2015</td>\n",
       "      <td>104</td>\n",
       "    </tr>\n",
       "    <tr>\n",
       "      <th>4</th>\n",
       "      <td>2016</td>\n",
       "      <td>105</td>\n",
       "    </tr>\n",
       "  </tbody>\n",
       "</table>\n",
       "</div>"
      ],
      "text/plain": [
       "   Year  Annual number of objects launched into outer space\n",
       "0  2012                                                 33 \n",
       "1  2013                                                 80 \n",
       "2  2014                                                 95 \n",
       "3  2015                                                104 \n",
       "4  2016                                                105 "
      ]
     },
     "execution_count": 21,
     "metadata": {},
     "output_type": "execute_result"
    }
   ],
   "source": [
    "df_sis = pd.read_csv(r\"yearly-number-of-objects-launched-into-outer-space.csv\", )\n",
    "\n",
    "df_sis_cleaned = df_sis[df_sis['Entity'] == \"United States\"]\n",
    "df_sis_cleaned = df_sis_cleaned[[\"Year\",  \"Annual number of objects launched into outer space\"]]\n",
    "numOb = df_sis_cleaned[df_sis_cleaned[\"Year\"].isin(range(2012, 2024))].reset_index(drop=True)\n",
    "numOb.head()\n"
   ]
  },
  {
   "cell_type": "code",
   "execution_count": 22,
   "id": "6f75c35d",
   "metadata": {},
   "outputs": [],
   "source": [
    "private['Annual number of objects launched into outer space'] = numOb['Annual number of objects launched into outer space']"
   ]
  },
  {
   "cell_type": "code",
   "execution_count": 24,
   "id": "df277f1d",
   "metadata": {},
   "outputs": [
    {
     "data": {
      "text/plain": [
       "['Year',\n",
       " 'Real Value Added by Industry (millions)',\n",
       " 'Real Gross Output by Industry (millions)',\n",
       " 'Employment (thousands)',\n",
       " 'Compensation (millions)',\n",
       " 'Annual number of objects launched into outer space']"
      ]
     },
     "execution_count": 24,
     "metadata": {},
     "output_type": "execute_result"
    }
   ],
   "source": [
    "private.columns.tolist()"
   ]
  },
  {
   "cell_type": "code",
   "execution_count": 26,
   "id": "9e07453d",
   "metadata": {},
   "outputs": [
    {
     "data": {
      "image/png": "[encoded data removed]",
      "text/plain": [
       "<Figure size 640x480 with 1 Axes>"
      ]
     },
     "metadata": {},
     "output_type": "display_data"
    }
   ],
   "source": [
    "# Replace 'column1' and 'column2' with your actual column names\n",
    "plt.plot(private['Real Value Added by Industry (millions)'], label='Real Value Added by Industry (millions)')\n",
    "plt.plot(private['Annual number of objects launched into outer space'], label='Annual number of objects launched into outer space')\n",
    "plt.legend()\n",
    "plt.xlabel('Index')\n",
    "plt.ylabel('Value')\n",
    "plt.title('Two Line Plot')\n",
    "plt.show()"
   ]
  }
 ],
 "metadata": {
  "kernelspec": {
   "display_name": "base",
   "language": "python",
   "name": "python3"
  },
  "language_info": {
   "codemirror_mode": {
    "name": "ipython",
    "version": 3
   },
   "file_extension": ".py",
   "mimetype": "text/x-python",
   "name": "python",
   "nbconvert_exporter": "python",
   "pygments_lexer": "ipython3",
   "version": "3.12.7"
  }
 },
 "nbformat": 4,
 "nbformat_minor": 5
}
